{
 "cells": [
  {
   "cell_type": "code",
   "execution_count": 1,
   "metadata": {},
   "outputs": [
    {
     "name": "stdout",
     "output_type": "stream",
     "text": [
      "Sorted array:\n",
      "11 12 22 25 34 64 90 "
     ]
    }
   ],
   "source": [
    "#BUBBLE SORT\n",
    "\n",
    "def bubbleSort(arr):\n",
    "    n = len(arr)\n",
    "    for i in range(n):\n",
    "        swapped = False\n",
    "        for j in range(0, n-i-1):\n",
    "            if arr[j] > arr[j+1]:\n",
    "                arr[j], arr[j+1] = arr[j+1], arr[j]\n",
    "                swapped = True\n",
    "        if (swapped == False):\n",
    "            break\n",
    "\n",
    "if __name__ == \"__main__\":\n",
    "    arr = [64, 34, 25, 12, 22, 11, 90]\n",
    "\n",
    "    bubbleSort(arr)\n",
    "\n",
    "    print(\"Sorted array:\")\n",
    "    for i in range(len(arr)):\n",
    "        print(\"%d\" % arr[i], end=\" \")"
   ]
  },
  {
   "cell_type": "code",
   "execution_count": 2,
   "metadata": {},
   "outputs": [
    {
     "name": "stdout",
     "output_type": "stream",
     "text": [
      "Original array: 64 25 12 22 11 \n",
      "Sorted array: 11 12 22 25 64 \n"
     ]
    }
   ],
   "source": [
    "#SELECTION SORT\n",
    "\n",
    "def selection_sort(arr):\n",
    "    n = len(arr)\n",
    "    for i in range(n - 1):\n",
    "        min_idx = i\n",
    "        for j in range(i + 1, n):\n",
    "            if arr[j] < arr[min_idx]:\n",
    "                min_idx = j\n",
    "        if min_idx != i:\n",
    "            arr[i], arr[min_idx] = arr[min_idx], arr[i]\n",
    "\n",
    "def print_array(arr):\n",
    "    for val in arr:\n",
    "        print(val, end=\" \")\n",
    "    print()\n",
    "\n",
    "if __name__ == \"__main__\":\n",
    "    arr = [64, 25, 12, 22, 11]\n",
    "    \n",
    "    print(\"Original array: \", end=\"\")\n",
    "    print_array(arr)\n",
    "    \n",
    "    selection_sort(arr)\n",
    "    \n",
    "    print(\"Sorted array: \", end=\"\")\n",
    "    print_array(arr)"
   ]
  }
 ],
 "metadata": {
  "kernelspec": {
   "display_name": "Python 3",
   "language": "python",
   "name": "python3"
  },
  "language_info": {
   "codemirror_mode": {
    "name": "ipython",
    "version": 3
   },
   "file_extension": ".py",
   "mimetype": "text/x-python",
   "name": "python",
   "nbconvert_exporter": "python",
   "pygments_lexer": "ipython3",
   "version": "3.12.4"
  }
 },
 "nbformat": 4,
 "nbformat_minor": 2
}
