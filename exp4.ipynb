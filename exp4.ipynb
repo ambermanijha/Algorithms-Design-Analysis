{
 "cells": [
  {
   "cell_type": "markdown",
   "metadata": {},
   "source": [
    "STRASSEN ALGORITHM"
   ]
  },
  {
   "cell_type": "code",
   "execution_count": 1,
   "metadata": {},
   "outputs": [
    {
     "name": "stdout",
     "output_type": "stream",
     "text": [
      "Matrix C (Result of A * B):\n",
      " [[18 14]\n",
      " [62 66]]\n"
     ]
    }
   ],
   "source": [
    "import numpy as np\n",
    "\n",
    "def strassen(A, B):\n",
    "    n = len(A)\n",
    "    if n <= 2:  \n",
    "        return np.dot(A, B)\n",
    "\n",
    "    mid = n // 2\n",
    "    A11 = A[:mid, :mid]\n",
    "    A12 = A[:mid, mid:]\n",
    "    A21 = A[mid:, :mid]\n",
    "    A22 = A[mid:, mid:]\n",
    "    B11 = B[:mid, :mid]\n",
    "    B12 = B[:mid, mid:]\n",
    "    B21 = B[mid:, :mid]\n",
    "    B22 = B[mid:, mid:]\n",
    "\n",
    "    P1 = strassen(A11, B12 - B22)\n",
    "    P2 = strassen(A11 + A12, B22)\n",
    "    P3 = strassen(A21 + A22, B11)\n",
    "    P4 = strassen(A22, B21 - B11)\n",
    "    P5 = strassen(A11 + A22, B11 + B22)\n",
    "    P6 = strassen(A12 - A22, B21 + B22)\n",
    "    P7 = strassen(A11 - A21, B11 + B12)\n",
    "\n",
    "    C11 = P5 + P4 - P2 + P6\n",
    "    C12 = P1 + P2\n",
    "    C21 = P3 + P4\n",
    "    C22 = P5 + P1 - P3 - P7\n",
    "\n",
    "    C = np.vstack((np.hstack((C11, C12)), np.hstack((C21, C22))))\n",
    "    return C\n",
    "\n",
    "A = np.array([[1, 3], [7, 5]])\n",
    "B = np.array([[6, 8], [4, 2]])\n",
    "C = strassen(A, B)\n",
    "print(\"Matrix C (Result of A * B):\\n\", C)\n"
   ]
  }
 ],
 "metadata": {
  "kernelspec": {
   "display_name": "Python 3",
   "language": "python",
   "name": "python3"
  },
  "language_info": {
   "codemirror_mode": {
    "name": "ipython",
    "version": 3
   },
   "file_extension": ".py",
   "mimetype": "text/x-python",
   "name": "python",
   "nbconvert_exporter": "python",
   "pygments_lexer": "ipython3",
   "version": "3.12.4"
  }
 },
 "nbformat": 4,
 "nbformat_minor": 2
}
